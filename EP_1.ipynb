{
  "nbformat": 4,
  "nbformat_minor": 0,
  "metadata": {
    "colab": {
      "name": "EP-1.ipynb",
      "provenance": [],
      "collapsed_sections": [],
      "authorship_tag": "ABX9TyODFl6en2m+rEL0AEHjSaSf",
      "include_colab_link": true
    },
    "kernelspec": {
      "name": "python3",
      "display_name": "Python 3"
    }
  },
  "cells": [
    {
      "cell_type": "markdown",
      "metadata": {
        "id": "view-in-github",
        "colab_type": "text"
      },
      "source": [
        "<a href=\"https://colab.research.google.com/github/kals26/Physics-simulations/blob/master/EP_1.ipynb\" target=\"_parent\"><img src=\"https://colab.research.google.com/assets/colab-badge.svg\" alt=\"Open In Colab\"/></a>"
      ]
    },
    {
      "cell_type": "code",
      "metadata": {
        "id": "BsUNH6K8VG0s"
      },
      "source": [
        "# To determine the characteristics of a set of data\n",
        "import numpy as np \n",
        "# Read the experiment file, sample.txt= 01_Exercise_free_fall_sphere.txt\n",
        "f= open(\"sample.txt\")\n",
        "data= np.genfromtxt('sample.txt', dtype= float)\n",
        "res= data[:,1]\n",
        "sub= np.ndarray.tolist(res)"
      ],
      "execution_count": 1,
      "outputs": []
    },
    {
      "cell_type": "code",
      "metadata": {
        "id": "Nvoppos_VnCh",
        "outputId": "1c6002a4-de9c-42b6-f1f1-c0bbcf56d601",
        "colab": {
          "base_uri": "https://localhost:8080/"
        }
      },
      "source": [
        "# Sub is a list of values of time\n",
        "print(type(sub))\n",
        "print(len(sub))\n",
        "# Calculate the arithmetic mean of the data\n",
        "print(\"Mean of the given data is:\",np.mean(sub))\n",
        "# Calculate the standard deviation of the data\n",
        "print(\"Standard deviation of the given data is:\",np.std(sub))\n",
        "# Calculate the standard error of mean of the data\n",
        "print(\"Standard error of mean of the given data is:\"\n",
        ",np.std(sub, ddof=1) / np.sqrt(np.size(sub)))\n"
      ],
      "execution_count": 2,
      "outputs": [
        {
          "output_type": "stream",
          "text": [
            "<class 'list'>\n",
            "100\n",
            "Mean of the given data is: 3.1508199999999995\n",
            "Standard deviation of the given data is: 0.03782072976556639\n",
            "Standard error of mean of the given data is: 0.0038011263615093894\n"
          ],
          "name": "stdout"
        }
      ]
    },
    {
      "cell_type": "code",
      "metadata": {
        "id": "t82Oco4tVvaJ",
        "outputId": "a351f30e-292c-4467-e82a-161def7777fa",
        "colab": {
          "base_uri": "https://localhost:8080/"
        }
      },
      "source": [
        "A = np.array(sub).reshape((10,10))\n",
        "for i in range(10):\n",
        "    # Mean of every ten slicies of data\n",
        "    B=[A[i]]\n",
        "    print('Set number is:',i, \"Mean of this 10 observations is:\", np.mean(A[i]))\n",
        "    \n",
        "    \n",
        "print(\"Mean of all obtained means is:\", np.mean(np.mean(A[i])))\n",
        "print(\"Standard deviation of all ten obtained means is:\", np.std(B))\n",
        "\n",
        "    \n",
        "\n",
        "\n"
      ],
      "execution_count": 3,
      "outputs": [
        {
          "output_type": "stream",
          "text": [
            "Set number is: 0 Mean of this 10 observations is: 3.1566\n",
            "Set number is: 1 Mean of this 10 observations is: 3.1603\n",
            "Set number is: 2 Mean of this 10 observations is: 3.1607999999999996\n",
            "Set number is: 3 Mean of this 10 observations is: 3.1487000000000003\n",
            "Set number is: 4 Mean of this 10 observations is: 3.1399999999999997\n",
            "Set number is: 5 Mean of this 10 observations is: 3.1361999999999997\n",
            "Set number is: 6 Mean of this 10 observations is: 3.1437\n",
            "Set number is: 7 Mean of this 10 observations is: 3.1493\n",
            "Set number is: 8 Mean of this 10 observations is: 3.1585\n",
            "Set number is: 9 Mean of this 10 observations is: 3.1541\n",
            "Mean of all obtained means is: 3.1541\n",
            "Standard deviation of all ten obtained means is: 0.027186209739498375\n"
          ],
          "name": "stdout"
        }
      ]
    },
    {
      "cell_type": "code",
      "metadata": {
        "id": "GykQzCU660GT",
        "outputId": "17c2b395-f524-4659-bc45-e332484c1905",
        "colab": {
          "base_uri": "https://localhost:8080/"
        }
      },
      "source": [
        "# Drawing conclusions between two methods of handling data\n",
        "diff= -np.mean(np.mean(A[i]))+np.mean(sub)\n",
        "print(\"The difference of mean obtained on 100 data points and 10 sets of 10 data points each is:\", diff)\n",
        "diff1= np.std(sub)- np.std(B)\n",
        "print(\"The difference of SD obtained on 100 data points and 10 sets of 10 data points each is:\", diff1)\n"
      ],
      "execution_count": 4,
      "outputs": [
        {
          "output_type": "stream",
          "text": [
            "The difference of mean obtained on 100 data points and 10 sets of 10 data points each is: -0.0032800000000006158\n",
            "The difference of SD obtained on 100 data points and 10 sets of 10 data points each is: 0.010634520026068017\n"
          ],
          "name": "stdout"
        }
      ]
    }
  ]
}