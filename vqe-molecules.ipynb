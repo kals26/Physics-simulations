{
 "cells": [
  {
   "cell_type": "markdown",
   "metadata": {
    "tags": [
     "remove_cell"
    ]
   },
   "source": [
    "# Simulating Molecules using VQE- The Li-H"
   ]
  },
  {
   "cell_type": "markdown",
   "metadata": {},
   "source": [
    "In this notebook, we will be designing our own implementation of a variational quantum eigensolver (VQE) algorithm that simulates the ground state energy of the Lithium Hydride (LiH) molecule. \n",
    "Also, as already mentioned in the challenge notebook, throughout this challenge, we will be able to make choices on how we want to compose our simulation from available options.\n",
    "\n",
    "## Contents\n",
    "1. VQE Implementation in Qiskit\n",
    "   1. Introduction\n",
    "   2. [Running VQE on a Noisy Simulator](#implementationnoisy)\n",
    "\n",
    "2. [References](#references)"
   ]
  },
  {
   "cell_type": "markdown",
   "metadata": {},
   "source": [
    "## A. Introduction<a id='introduction'></a>\n",
    "In many applications it is important to find the minimum eigenvalue of a matrix. For example, in chemistry, the minimum eigenvalue of a Hermitian matrix characterizing the molecule is the ground state energy of that system. In the future, the quantum phase estimation algorithm may be used to find the minimum eigenvalue. However, its implementation on useful problems requires circuit depths exceeding the limits of hardware available in the NISQ era. Thus, in 2014, Peruzzo *et al.* proposed VQE to estimate the ground state energy of a molecule using much shallower circuits [1]. \n",
    "\n",
    "Formally stated, given a Hermitian matrix $H$ with an unknown minimum eigenvalue $\\lambda_{min}$, associated with the eigenstate $|\\psi_{min}\\rangle$, VQE provides an estimate $\\lambda_{\\theta}$ bounding $\\lambda_{min}$:\n",
    "\n",
    "\\begin{align*}\n",
    "    \\lambda_{min} \\le \\lambda_{\\theta} \\equiv \\langle \\psi(\\theta) |H|\\psi(\\theta) \\rangle\n",
    "\\end{align*}  \n",
    "\n",
    "where $|\\psi(\\theta)\\rangle$ is the eigenstate associated with $\\lambda_{\\theta}$. By applying a parameterized circuit, represented by $U(\\theta)$, to some arbitrary starting state $|\\psi\\rangle$, the algorithm obtains an estimate $U(\\theta)|\\psi\\rangle \\equiv |\\psi(\\theta)\\rangle$ on $|\\psi_{min}\\rangle$. The estimate is iteratively optimized by a classical controller changing the parameter $\\theta$ minimizing the expectation value of $\\langle \\psi(\\theta) |H|\\psi(\\theta) \\rangle$.\n",
    "\n",
    "\n",
    "\n",
    "\n",
    "\n"
   ]
  },
  {
   "cell_type": "markdown",
   "metadata": {},
   "source": [
    "### B. Running VQE on a Noisy Simulator<a id='implementationnoisy'></a>\n",
    "\n",
    "Here, we calculate the ground state energy for LiH using a noisy simulator.\n",
    "By changing the parameter inter_dist, we can use our VQE algorithm to calculate the ground state energy of LiH at various interatomic distances.\n",
    "Among the choices on the challenge notebook, one combination would out perform others and give us the lowest estimation of LiH ground state energy with the quickest convergence.\n"
   ]
  },
  {
   "cell_type": "code",
   "execution_count": null,
   "metadata": {},
   "outputs": [],
   "source": [
    "# Importing necessary account settings\n",
    "%matplotlib inline\n",
    "import numpy as np\n",
    "from qiskit.aqua.algorithms import VQE, NumPyEigensolver\n",
    "# Importing standard Qiskit libraries and configuring account\n",
    "from qiskit import QuantumCircuit, execute, Aer, IBMQ\n",
    "from qiskit.compiler import transpile, assemble\n",
    "from qiskit.tools.jupyter import *\n",
    "from qiskit.visualization import *\n",
    "import matplotlib.pyplot as plt\n",
    "# Loading the IBM Q account(s)\n",
    "provider = IBMQ.load_account()\n",
    "import warnings\n",
    "warnings.filterwarnings('ignore')"
   ]
  },
  {
   "cell_type": "code",
   "execution_count": null,
   "metadata": {},
   "outputs": [],
   "source": [
    "# All the necessary libraries\n",
    "from qiskit import BasicAer, Aer, IBMQ\n",
    "from qiskit.aqua import QuantumInstance, aqua_globals\n",
    "from qiskit.aqua.algorithms import VQE, ExactEigensolver\n",
    "from qiskit.aqua.components.initial_states import Zero\n",
    "from qiskit.aqua.components.optimizers import COBYLA, L_BFGS_B, SLSQP, SPSA\n",
    "from qiskit.aqua.components.variational_forms import RY, RYRZ, SwapRZ\n",
    "from qiskit.aqua.operators import WeightedPauliOperator, Z2Symmetries\n",
    "from qiskit.chemistry import FermionicOperator\n",
    "from qiskit.chemistry.drivers import PySCFDriver, UnitsType\n",
    "from qiskit.chemistry.components.variational_forms import UCCSD\n",
    "from qiskit.chemistry.components.initial_states import HartreeFock\n",
    "\n",
    "from qiskit.providers.aer import QasmSimulator\n",
    "from qiskit.providers.aer.noise import NoiseModel\n",
    "from qiskit.providers.aer.noise.errors import QuantumError, ReadoutError\n",
    "from qiskit.providers.aer.noise.errors import pauli_error\n",
    "from qiskit.providers.aer.noise.errors import depolarizing_error\n",
    "from qiskit.providers.aer.noise.errors import thermal_relaxation_error\n",
    "from qiskit.ignis.mitigation.measurement import CompleteMeasFitter\n",
    "\n",
    "from qiskit.providers.aer import noise"
   ]
  },
  {
   "cell_type": "code",
   "execution_count": null,
   "metadata": {},
   "outputs": [],
   "source": [
    "# Defining our molecule\n",
    "inter_dist=[]\n",
    "driver = PySCFDriver(atom='Li .0 .0 .0; H .0 .0' + str(inter_dist), unit=UnitsType.ANGSTROM, charge=0, spin=0, basis='sto3g')\n"
   ]
  },
  {
   "cell_type": "code",
   "execution_count": null,
   "metadata": {},
   "outputs": [],
   "source": [
    "# Reduce the problem size\n",
    "freeze_list = [0]\n",
    "remove_list = [-3, -2] "
   ]
  },
  {
   "cell_type": "code",
   "execution_count": null,
   "metadata": {},
   "outputs": [],
   "source": [
    "# Get the noisy simulator!\n",
    "backend = Aer.get_backend('qasm_simulator')\n",
    "chip_name = 'ibmq_essex'\n",
    "device = provider.get_backend(chip_name)\n",
    "coupling_map = device.configuration().coupling_map\n",
    "noise_model = NoiseModel.from_backend(device.properties())\n",
    "basis_gates = noise_model.basis_gates\n",
    "quantum_instance =  QuantumInstance(backend=backend, shots=10000, \n",
    "                                   noise_model=noise_model, \n",
    "                                   coupling_map=coupling_map,\n",
    "                                   measurement_error_mitigation_cls=CompleteMeasFitter,\n",
    "                                   cals_matrix_refresh_period=30)"
   ]
  },
  {
   "cell_type": "code",
   "execution_count": null,
   "metadata": {},
   "outputs": [],
   "source": [
    "# Define the classical solver\n",
    "def exact_solver(qubitOp):\n",
    "    ee = ExactEigensolver(qubitOp)\n",
    "    result = ee.run()\n",
    "    ref = result['energy']\n",
    "    print('Reference value: {}'.format(ref))\n",
    "    return ref\n",
    "\n",
    "# Define your function for computing the qubit operations of LiH\n",
    "def compute_LiH_qubitOp(inter_dist, basis='sto3g'):\n",
    "    \n",
    "    # Specify details of our molecule\n",
    "    driver = PySCFDriver(atom='Li .0 .0 .0; H .0 .0 ' + str(inter_dist), unit=UnitsType.ANGSTROM, charge=0,\n",
    "                         spin=0, basis=basis)\n",
    "\n",
    "    # Compute relevant 1 and 2 body integrals.\n",
    "    molecule = driver.run()\n",
    "    h1 = molecule.one_body_integrals\n",
    "    h2 = molecule.two_body_integrals\n",
    "    nuclear_repulsion_energy = molecule.nuclear_repulsion_energy\n",
    "    \n",
    "    num_particles = molecule.num_alpha + molecule.num_beta\n",
    "    num_spin_orbitals = molecule.num_orbitals * 2\n",
    "    print(\"HF energy: {}\".format(molecule.hf_energy - molecule.nuclear_repulsion_energy))\n",
    "    print(\"# of electrons: {}\".format(num_particles))\n",
    "    print(\"# of spin orbitals: {}\".format(num_spin_orbitals))\n",
    "\n",
    "    # Please be aware that the idx here with respective to original idx\n",
    "    freeze_list = [0]\n",
    "    remove_list = [-3, -2] # negative number denotes the reverse order\n",
    "    \n",
    "    # Prepare full idx of freeze_list and remove_list\n",
    "    # Convert all negative idx to positive\n",
    "    remove_list = [x % molecule.num_orbitals for x in remove_list]\n",
    "    freeze_list = [x % molecule.num_orbitals for x in freeze_list]\n",
    "    \n",
    "    # Update the idx in remove_list of the idx after frozen, since the idx of orbitals are changed after freezing\n",
    "    remove_list = [x - len(freeze_list) for x in remove_list]\n",
    "    remove_list += [x + molecule.num_orbitals - len(freeze_list)  for x in remove_list]\n",
    "    freeze_list += [x + molecule.num_orbitals for x in freeze_list]\n",
    "\n",
    "    # Prepare fermionic hamiltonian with orbital freezing and eliminating, and then map to qubit hamiltonian\n",
    "    # and if PARITY mapping is selected, there will be reduction of qubits\n",
    "    energy_shift = 0.0\n",
    "    map_type = 'parity'\n",
    "    qubit_reduction = True if map_type == 'parity' else False\n",
    "\n",
    "    ferOp = FermionicOperator(h1=h1, h2=h2)\n",
    "    if len(freeze_list) > 0:\n",
    "        ferOp, energy_shift = ferOp.fermion_mode_freezing(freeze_list)\n",
    "        num_spin_orbitals -= len(freeze_list)\n",
    "        num_particles -= len(freeze_list)\n",
    "    if len(remove_list) > 0:\n",
    "        ferOp = ferOp.fermion_mode_elimination(remove_list)\n",
    "        num_spin_orbitals -= len(remove_list)\n",
    "\n",
    "    qubitOp = ferOp.mapping(map_type='parity', threshold=0.00000001)\n",
    "    qubitOp = Z2Symmetries.two_qubit_reduction(qubitOp, num_particles) if qubit_reduction else qubitOp\n",
    "    qubitOp.chop(10**-10)\n",
    "    \n",
    "    shift = energy_shift + nuclear_repulsion_energy\n",
    "\n",
    "    return qubitOp, num_spin_orbitals, num_particles, qubit_reduction, shift\n",
    "\n",
    "# Run the VQE on noisy system now\n",
    "distances = np.arange(0.4, 4.0, 0.4)\n",
    "exact_energies = []\n",
    "vqe_energies = []\n",
    "optimizer = SPSA(max_trials=500)\n",
    "\n",
    "for inter_dist in distances:\n",
    "    qubitOp, num_spin_orbitals, num_particles, qubit_reduction, shift = compute_LiH_qubitOp(inter_dist)\n",
    "    ref = exact_solver(qubitOp)\n",
    "    result = NumPyEigensolver(qubitOp).run()   \n",
    "    exact_energies.append(np.real(result.eigenvalues) + shift)\n",
    "    init_state = HartreeFock(num_spin_orbitals, num_particles, qubit_mapping='parity')\n",
    "    var_form = RYRZ(num_qubits=qubitOp.num_qubits,depth=2)\n",
    "    vqe = VQE(qubitOp, var_form, optimizer)\n",
    "    vqe_result = np.real(vqe.run(backend)['eigenvalue'] + shift)\n",
    "    vqe_energies.append(vqe_result)\n",
    "    print(\"Interatomic Distance:\", np.round(inter_dist, 2), \"VQE Result:\", vqe_result, \"Exact Energy:\",exact_energies[-1])\n",
    "print(\"All energies have been calculated\")"
   ]
  },
  {
   "cell_type": "markdown",
   "metadata": {},
   "source": [
    "As the effects of noise increase as the number of two qubit gates circuit depth increase, we use a heuristic variational form (RYRZ) rather than UCCSD as RYRZ has a much shallower circuit than UCCSD and uses substantially fewer two qubit gates.\n",
    "\n",
    "\n"
   ]
  },
  {
   "cell_type": "code",
   "execution_count": null,
   "metadata": {},
   "outputs": [],
   "source": [
    "# For plotting part-1: Ground state energy at various inter-atomic distances\n",
    "plt.plot(distances, exact_energies, label=\"Exact Energy\")\n",
    "plt.scatter(distances, vqe_energies, label=\"VQE Energy\", color='red')\n",
    "plt.plot(distances, vqe_energies, color='black')\n",
    "plt.xlabel('Atomic distance (Angstrom)')\n",
    "plt.ylabel('Energy')\n",
    "plt.title('Exact molecular energy and VQE simulation (The simulation curve, with noise)')\n",
    "plt.legend()\n",
    "plt.show()"
   ]
  },
  {
   "cell_type": "code",
   "execution_count": null,
   "metadata": {},
   "outputs": [],
   "source": [
    "# Energy convergence of specific optimization algorithm used- SPSA\n",
    "# Fix a particular inter-atomic distance and check the energy minimisation as a function of the no.of iterations of Optimization performed\n",
    "qubitOp, num_spin_orbitals, num_particles, qubit_reduction, shift= compute_LiH_qubitOp(inter_dist=1.6)\n",
    "# Here, check for 250 iterations\n",
    "for i in range(0,251,10):\n",
    "    optimizer= SPSA(max_trials=i)\n",
    "    result = NumPyEigensolver(qubitOp).run()\n",
    "    exact_energies.append(np.real(result.eigenvalues)+shift )\n",
    "    initial_state = init_state\n",
    "    var_form = var_form\n",
    "    # Solve for VQE\n",
    "    vqe = VQE(qubitOp, var_form, optimizer)\n",
    "    vqe_result = np.real(vqe.run(quantum_instance)['eigenvalue']+shift )\n",
    "    vqe_energies.append(vqe_result)\n",
    "    print(\"SPSA iteration value:\",i, \"Interatomic Distance:\", np.around(inter_dist, decimals=2), \"VQE Result:\", vqe_result, \"Exact Energy:\", exact_energies[-1])\n",
    "    \n",
    "print(\"All iterations have been performed\")"
   ]
  },
  {
   "cell_type": "code",
   "execution_count": null,
   "metadata": {},
   "outputs": [],
   "source": [
    "# For plotting part-2: Energy Errors of VQE procedure for RYRZ\n",
    "import numpy as np\n",
    "eval_counts= np.arange(0,250,10)\n",
    "Energy_Error= [m - n for m,n in zip(exact_energies, vqe_energies)] \n",
    "plt.plot(eval_counts, Energy_Error, label=\"SPSA\")\n",
    "plt.xlabel('eval_counts')\n",
    "plt.ylabel('Energy Errors for SPSA optimizer')\n",
    "plt.title('Energy Errors for VQE procedure for RYRZ')\n",
    "plt.legend()\n",
    "plt.show()\n",
    "\n",
    "# Hartree limit=  chemical accuracy (defined as being within 0.0016 Hartree of the exact result)."
   ]
  },
  {
   "cell_type": "markdown",
   "metadata": {},
   "source": [
    "## References<a id='references'></a>\n",
    "1. Peruzzo, Alberto, et al. \"A variational eigenvalue solver on a photonic quantum processor.\" *Nature communications* 5 (2014): 4213.\n",
    "2. Griffiths, David J., and Darrell F. Schroeter. Introduction to quantum mechanics. *Cambridge University Press*, 2018.\n",
    "3. Shende, Vivek V., Igor L. Markov, and Stephen S. Bullock. \"Minimal universal two-qubit cnot-based circuits.\" arXiv preprint quant-ph/0308033 (2003).\n",
    "4. Kandala, Abhinav, et al. \"Hardware-efficient variational quantum eigensolver for small molecules and quantum magnets.\" Nature 549.7671 (2017): 242."
   ]
  },
  {
   "cell_type": "code",
   "execution_count": null,
   "metadata": {},
   "outputs": [],
   "source": [
    "import qiskit\n",
    "qiskit.__qiskit_version__"
   ]
  }
 ],
 "metadata": {
  "kernelspec": {
   "display_name": "Python 3",
   "language": "python",
   "name": "python3"
  },
  "language_info": {
   "codemirror_mode": {
    "name": "ipython",
    "version": 3
   },
   "file_extension": ".py",
   "mimetype": "text/x-python",
   "name": "python",
   "nbconvert_exporter": "python",
   "pygments_lexer": "ipython3",
   "version": "3.7.8"
  }
 },
 "nbformat": 4,
 "nbformat_minor": 2
}
